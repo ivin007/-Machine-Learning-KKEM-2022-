{
 "cells": [
  {
   "cell_type": "code",
   "execution_count": 1,
   "id": "c666414b",
   "metadata": {},
   "outputs": [],
   "source": [
    "import pandas as pd\n",
    "import numpy as np\n",
    "import sklearn as skl\n",
    "import seaborn as sns\n",
    "import matplotlib.pyplot as plt"
   ]
  },
  {
   "cell_type": "code",
   "execution_count": 2,
   "id": "764d4a21",
   "metadata": {},
   "outputs": [],
   "source": [
    "# This is my own customised data preprocessing function\n",
    "def data_preprocessing(x):\n",
    "    \n",
    "    import numpy as np\n",
    "    import pandas as pd\n",
    "    import matplotlib.pyplot as plt\n",
    "    import seaborn as sns\n",
    "\n",
    "    print('MISSING VALUES')\n",
    "    print('*'*100)\n",
    "    print()\n",
    "    x.info()\n",
    "    print()\n",
    "\n",
    "    print('Number of missing values before preprocessing')\n",
    "    print()\n",
    "    print(x.isna().sum())\n",
    "    for i in x.columns:\n",
    "        if x[i].dtype in ['float64','int64'] :\n",
    "            x[i] = x[i].fillna(x[i].mean())\n",
    "        elif x[i].dtype == 'bool':\n",
    "            x[i] = x[i].fillna(x[i].mode())    \n",
    "        else:\n",
    "            x[i] = x[i].fillna( method = 'bfill', axis =0 )\n",
    "    print()\n",
    "    print('Number of missing values after preprocessing')\n",
    "    print(x.isna().sum())\n",
    "    print()\n",
    "    print('')\n",
    "\n",
    "    print('OUTLIERS')\n",
    "    print('*'*100)\n",
    "    ind1 = []\n",
    "    outlier = []\n",
    "    pure = []\n",
    "    a = []\n",
    "    b = []\n",
    "    for i in x.columns:\n",
    "        if x[i].dtype in ['float64','int64']:\n",
    "            q1 = np.percentile(x[i], q = 25, interpolation = 'midpoint')\n",
    "            q2 = np.percentile(x[i], q = 50, interpolation = 'midpoint')\n",
    "            q3 = np.percentile(x[i], q = 75, interpolation = 'midpoint')\n",
    "            iqr = q3-q1\n",
    "            upper_limit = q3+1.5*iqr \n",
    "            lower_limit = q1-1.5*iqr \n",
    "            print(f'Quartiles for {i} are: q1:{q1}, q2:{q2}, q3:{q3}' )\n",
    "            print(f'IQR for {i} is {iqr}')\n",
    "            print(f'Upper limit is {upper_limit}')\n",
    "            print(f'Lower limit is {lower_limit}')\n",
    "            y = []   \n",
    "            for j in range(len(x[i])):\n",
    "                if (x[i][j] > upper_limit) or (x[i][j] < lower_limit):\n",
    "                    y.append(x[i][j])\n",
    "                    outlier.append(x[i][j])\n",
    "            if len(y) > 0:\n",
    "                if len(y)<10:\n",
    "                    print(f'Outliers for {i} is {y}')\n",
    "                else:\n",
    "                    print(f'Outliers for {i} is {y[0:11]} ....')\n",
    "                index1 = x[i] > upper_limit\n",
    "                index2 = x[i] < lower_limit\n",
    "                a.append(x.loc[index1].index)\n",
    "                b.append(x.loc[index2].index)\n",
    "\n",
    "                print()\n",
    "                print('--'*25)\n",
    "                print()\n",
    "            else:\n",
    "                print('There are no outliers')\n",
    "                print()\n",
    "                print('--'*25)\n",
    "                print()\n",
    "#     print(f'The outliers in this data set is {outlier}')\n",
    "#     print()\n",
    "#     print('--'*100)\n",
    "#     print()\n",
    "    # For getting the indices that are to be deleted\n",
    "    for v in range(len(a)):\n",
    "        for g in range(len(a[v])):\n",
    "            ind1.append(a[v][g])\n",
    "    for v in range(len(b)):\n",
    "        for g in range(len(b[v])):\n",
    "            ind1.append(b[v][g])\n",
    "    ind1 = list(set(ind1))\n",
    "#     print()\n",
    "#     print('--'*100)\n",
    "#     print()\n",
    "    print(f' The no of rows  that are to be deleted are {len(ind1)}.')\n",
    "    print()\n",
    "    print('--'*100)\n",
    "    print()\n",
    "    x.drop(index = ind1, inplace = True)\n",
    "    \n",
    "#     print(x)\n",
    "    \n",
    "    x.set_index(np.arange(1,x.shape[0]+1),inplace = True)\n",
    "    \n",
    "    print(x)\n",
    "    \n",
    "#     print(x.shape[0])"
   ]
  },
  {
   "cell_type": "code",
   "execution_count": 3,
   "id": "95161261",
   "metadata": {},
   "outputs": [],
   "source": [
    "# Importing Data Frame\n",
    "df = pd.read_csv('E:\\\\Downloads\\\\USA_Housing.csv')"
   ]
  },
  {
   "cell_type": "code",
   "execution_count": 4,
   "id": "029773d1",
   "metadata": {},
   "outputs": [
    {
     "name": "stdout",
     "output_type": "stream",
     "text": [
      "<class 'pandas.core.frame.DataFrame'>\n",
      "RangeIndex: 5000 entries, 0 to 4999\n",
      "Data columns (total 7 columns):\n",
      " #   Column                        Non-Null Count  Dtype  \n",
      "---  ------                        --------------  -----  \n",
      " 0   Avg. Area Income              5000 non-null   float64\n",
      " 1   Avg. Area House Age           5000 non-null   float64\n",
      " 2   Avg. Area Number of Rooms     5000 non-null   float64\n",
      " 3   Avg. Area Number of Bedrooms  5000 non-null   float64\n",
      " 4   Area Population               5000 non-null   float64\n",
      " 5   Price                         5000 non-null   float64\n",
      " 6   Address                       5000 non-null   object \n",
      "dtypes: float64(6), object(1)\n",
      "memory usage: 273.6+ KB\n"
     ]
    }
   ],
   "source": [
    "df.info()"
   ]
  },
  {
   "cell_type": "code",
   "execution_count": 5,
   "id": "c632fc7e",
   "metadata": {},
   "outputs": [
    {
     "data": {
      "text/html": [
       "<div>\n",
       "<style scoped>\n",
       "    .dataframe tbody tr th:only-of-type {\n",
       "        vertical-align: middle;\n",
       "    }\n",
       "\n",
       "    .dataframe tbody tr th {\n",
       "        vertical-align: top;\n",
       "    }\n",
       "\n",
       "    .dataframe thead th {\n",
       "        text-align: right;\n",
       "    }\n",
       "</style>\n",
       "<table border=\"1\" class=\"dataframe\">\n",
       "  <thead>\n",
       "    <tr style=\"text-align: right;\">\n",
       "      <th></th>\n",
       "      <th>Avg. Area Income</th>\n",
       "      <th>Avg. Area House Age</th>\n",
       "      <th>Avg. Area Number of Rooms</th>\n",
       "      <th>Avg. Area Number of Bedrooms</th>\n",
       "      <th>Area Population</th>\n",
       "      <th>Price</th>\n",
       "    </tr>\n",
       "  </thead>\n",
       "  <tbody>\n",
       "    <tr>\n",
       "      <th>count</th>\n",
       "      <td>5000.000000</td>\n",
       "      <td>5000.000000</td>\n",
       "      <td>5000.000000</td>\n",
       "      <td>5000.000000</td>\n",
       "      <td>5000.000000</td>\n",
       "      <td>5.000000e+03</td>\n",
       "    </tr>\n",
       "    <tr>\n",
       "      <th>mean</th>\n",
       "      <td>68583.108984</td>\n",
       "      <td>5.977222</td>\n",
       "      <td>6.987792</td>\n",
       "      <td>3.981330</td>\n",
       "      <td>36163.516039</td>\n",
       "      <td>1.232073e+06</td>\n",
       "    </tr>\n",
       "    <tr>\n",
       "      <th>std</th>\n",
       "      <td>10657.991214</td>\n",
       "      <td>0.991456</td>\n",
       "      <td>1.005833</td>\n",
       "      <td>1.234137</td>\n",
       "      <td>9925.650114</td>\n",
       "      <td>3.531176e+05</td>\n",
       "    </tr>\n",
       "    <tr>\n",
       "      <th>min</th>\n",
       "      <td>17796.631190</td>\n",
       "      <td>2.644304</td>\n",
       "      <td>3.236194</td>\n",
       "      <td>2.000000</td>\n",
       "      <td>172.610686</td>\n",
       "      <td>1.593866e+04</td>\n",
       "    </tr>\n",
       "    <tr>\n",
       "      <th>25%</th>\n",
       "      <td>61480.562388</td>\n",
       "      <td>5.322283</td>\n",
       "      <td>6.299250</td>\n",
       "      <td>3.140000</td>\n",
       "      <td>29403.928702</td>\n",
       "      <td>9.975771e+05</td>\n",
       "    </tr>\n",
       "    <tr>\n",
       "      <th>50%</th>\n",
       "      <td>68804.286404</td>\n",
       "      <td>5.970429</td>\n",
       "      <td>7.002902</td>\n",
       "      <td>4.050000</td>\n",
       "      <td>36199.406689</td>\n",
       "      <td>1.232669e+06</td>\n",
       "    </tr>\n",
       "    <tr>\n",
       "      <th>75%</th>\n",
       "      <td>75783.338666</td>\n",
       "      <td>6.650808</td>\n",
       "      <td>7.665871</td>\n",
       "      <td>4.490000</td>\n",
       "      <td>42861.290769</td>\n",
       "      <td>1.471210e+06</td>\n",
       "    </tr>\n",
       "    <tr>\n",
       "      <th>max</th>\n",
       "      <td>107701.748378</td>\n",
       "      <td>9.519088</td>\n",
       "      <td>10.759588</td>\n",
       "      <td>6.500000</td>\n",
       "      <td>69621.713378</td>\n",
       "      <td>2.469066e+06</td>\n",
       "    </tr>\n",
       "  </tbody>\n",
       "</table>\n",
       "</div>"
      ],
      "text/plain": [
       "       Avg. Area Income  Avg. Area House Age  Avg. Area Number of Rooms  \\\n",
       "count       5000.000000          5000.000000                5000.000000   \n",
       "mean       68583.108984             5.977222                   6.987792   \n",
       "std        10657.991214             0.991456                   1.005833   \n",
       "min        17796.631190             2.644304                   3.236194   \n",
       "25%        61480.562388             5.322283                   6.299250   \n",
       "50%        68804.286404             5.970429                   7.002902   \n",
       "75%        75783.338666             6.650808                   7.665871   \n",
       "max       107701.748378             9.519088                  10.759588   \n",
       "\n",
       "       Avg. Area Number of Bedrooms  Area Population         Price  \n",
       "count                   5000.000000      5000.000000  5.000000e+03  \n",
       "mean                       3.981330     36163.516039  1.232073e+06  \n",
       "std                        1.234137      9925.650114  3.531176e+05  \n",
       "min                        2.000000       172.610686  1.593866e+04  \n",
       "25%                        3.140000     29403.928702  9.975771e+05  \n",
       "50%                        4.050000     36199.406689  1.232669e+06  \n",
       "75%                        4.490000     42861.290769  1.471210e+06  \n",
       "max                        6.500000     69621.713378  2.469066e+06  "
      ]
     },
     "execution_count": 5,
     "metadata": {},
     "output_type": "execute_result"
    }
   ],
   "source": [
    "# Data Preprocessing (Here the outliers have been removed)\n",
    "df.describe()"
   ]
  },
  {
   "cell_type": "code",
   "execution_count": 6,
   "id": "20e9293e",
   "metadata": {},
   "outputs": [
    {
     "name": "stdout",
     "output_type": "stream",
     "text": [
      "MISSING VALUES\n",
      "****************************************************************************************************\n",
      "\n",
      "<class 'pandas.core.frame.DataFrame'>\n",
      "RangeIndex: 5000 entries, 0 to 4999\n",
      "Data columns (total 7 columns):\n",
      " #   Column                        Non-Null Count  Dtype  \n",
      "---  ------                        --------------  -----  \n",
      " 0   Avg. Area Income              5000 non-null   float64\n",
      " 1   Avg. Area House Age           5000 non-null   float64\n",
      " 2   Avg. Area Number of Rooms     5000 non-null   float64\n",
      " 3   Avg. Area Number of Bedrooms  5000 non-null   float64\n",
      " 4   Area Population               5000 non-null   float64\n",
      " 5   Price                         5000 non-null   float64\n",
      " 6   Address                       5000 non-null   object \n",
      "dtypes: float64(6), object(1)\n",
      "memory usage: 273.6+ KB\n",
      "\n",
      "Number of missing values before preprocessing\n",
      "\n",
      "Avg. Area Income                0\n",
      "Avg. Area House Age             0\n",
      "Avg. Area Number of Rooms       0\n",
      "Avg. Area Number of Bedrooms    0\n",
      "Area Population                 0\n",
      "Price                           0\n",
      "Address                         0\n",
      "dtype: int64\n",
      "\n",
      "Number of missing values after preprocessing\n",
      "Avg. Area Income                0\n",
      "Avg. Area House Age             0\n",
      "Avg. Area Number of Rooms       0\n",
      "Avg. Area Number of Bedrooms    0\n",
      "Area Population                 0\n",
      "Price                           0\n",
      "Address                         0\n",
      "dtype: int64\n",
      "\n",
      "\n",
      "OUTLIERS\n",
      "****************************************************************************************************\n",
      "Quartiles for Avg. Area Income are: q1:61479.91956882976, q2:68804.28640371616, q3:75784.34219203914\n",
      "IQR for Avg. Area Income is 14304.422623209379\n",
      "Upper limit is 97240.9761268532\n",
      "Lower limit is 40023.285634015694\n",
      "Outliers for Avg. Area Income is [39033.809236982364, 17796.631189543397, 36100.444226680745, 99629.01358134775, 107701.74837763936, 39411.652787814426, 101928.85805987818, 97548.31041260507, 37971.20756623529, 35963.330809062856, 39294.036523316114] ....\n",
      "\n",
      "--------------------------------------------------\n",
      "\n",
      "Quartiles for Avg. Area House Age are: q1:5.322278623622729, q2:5.970428947124802, q3:6.650870225607854\n",
      "IQR for Avg. Area House Age is 1.3285916019851243\n",
      "Upper limit is 8.64375762858554\n",
      "Lower limit is 3.329391220645043\n",
      "Outliers for Avg. Area House Age is [3.2782275964055096, 8.764785540314001, 2.644304186036705, 8.991399330611651, 3.055370327387371, 3.2148681463036715, 2.683042903331156, 3.205828406711825, 8.973440775154549, 8.68843407427393, 3.1057512377015195] ....\n",
      "\n",
      "--------------------------------------------------\n",
      "\n",
      "Quartiles for Avg. Area Number of Rooms are: q1:6.299155512579741, q2:7.002901987201934, q3:7.666099794498402\n",
      "IQR for Avg. Area Number of Rooms is 1.366944281918661\n",
      "Upper limit is 9.716516217376395\n",
      "Lower limit is 4.24873908970175\n",
      "Outliers for Avg. Area Number of Rooms is [4.242191301572632, 3.2361940234262048, 4.049320547634912, 4.129733360831915, 9.794898313879164, 10.759588335938624, 3.9696316523619535, 3.950972652889892, 10.219901981473976, 9.841095462796725, 9.921519788746023] ....\n",
      "\n",
      "--------------------------------------------------\n",
      "\n",
      "Quartiles for Avg. Area Number of Bedrooms are: q1:3.14, q2:4.05, q3:4.49\n",
      "IQR for Avg. Area Number of Bedrooms is 1.35\n",
      "Upper limit is 6.515000000000001\n",
      "Lower limit is 1.1149999999999998\n",
      "There are no outliers\n",
      "\n",
      "--------------------------------------------------\n",
      "\n",
      "Quartiles for Area Population are: q1:29403.78982026877, q2:36199.406689260555, q3:42865.210579351966\n",
      "IQR for Area Population is 13461.420759083197\n",
      "Upper limit is 63057.341717976764\n",
      "Lower limit is 9211.65868164397\n",
      "Outliers for Area Population is [69575.4494636571, 172.61068627290044, 69553.98832715878, 67353.96520386345, 63184.61314723032, 3285.4505375208782, 69592.04023598543, 64566.68738030215, 64543.322446134494, 67601.22355787536, 64149.68021309122] ....\n",
      "\n",
      "--------------------------------------------------\n",
      "\n",
      "Quartiles for Price are: q1:997535.5903280952, q2:1232669.3779657914, q3:1471388.9878472905\n",
      "IQR for Price is 473853.3975191952\n",
      "Upper limit is 2182169.084126083\n",
      "Lower limit is 286755.4940493024\n",
      "Outliers for Price is [201898.08657249613, 2298379.48670761, 152071.87474956046, 2249122.541335193, 2469065.5941747027, 2252243.340472784, 2332110.740124409, 283208.13218687923, 2237778.0257039685, 2271112.743827721, 2330289.700683439] ....\n",
      "\n",
      "--------------------------------------------------\n",
      "\n",
      " The no of rows  that are to be deleted are 135.\n",
      "\n",
      "--------------------------------------------------------------------------------------------------------------------------------------------------------------------------------------------------------\n",
      "\n",
      "      Avg. Area Income  Avg. Area House Age  Avg. Area Number of Rooms  \\\n",
      "1         79545.458574             5.682861                   7.009188   \n",
      "2         79248.642455             6.002900                   6.730821   \n",
      "3         61287.067179             5.865890                   8.512727   \n",
      "4         63345.240046             7.188236                   5.586729   \n",
      "5         59982.197226             5.040555                   7.839388   \n",
      "...                ...                  ...                        ...   \n",
      "4861      60567.944140             7.830362                   6.137356   \n",
      "4862      78491.275435             6.999135                   6.576763   \n",
      "4863      63390.686886             7.250591                   4.805081   \n",
      "4864      68001.331235             5.534388                   7.130144   \n",
      "4865      65510.581804             5.992305                   6.792336   \n",
      "\n",
      "      Avg. Area Number of Bedrooms  Area Population         Price  \\\n",
      "1                             4.09     23086.800503  1.059034e+06   \n",
      "2                             3.09     40173.072174  1.505891e+06   \n",
      "3                             5.13     36882.159400  1.058988e+06   \n",
      "4                             3.26     34310.242831  1.260617e+06   \n",
      "5                             4.23     26354.109472  6.309435e+05   \n",
      "...                            ...              ...           ...   \n",
      "4861                          3.46     22837.361035  1.060194e+06   \n",
      "4862                          4.02     25616.115489  1.482618e+06   \n",
      "4863                          2.13     33266.145490  1.030730e+06   \n",
      "4864                          5.44     42625.620156  1.198657e+06   \n",
      "4865                          4.07     46501.283803  1.298950e+06   \n",
      "\n",
      "                                                Address  \n",
      "1     208 Michael Ferry Apt. 674\\nLaurabury, NE 3701...  \n",
      "2     188 Johnson Views Suite 079\\nLake Kathleen, CA...  \n",
      "3     9127 Elizabeth Stravenue\\nDanieltown, WI 06482...  \n",
      "4                             USS Barnett\\nFPO AP 44820  \n",
      "5                            USNS Raymond\\nFPO AE 09386  \n",
      "...                                                 ...  \n",
      "4861                   USNS Williams\\nFPO AP 30153-7653  \n",
      "4862              PSC 9258, Box 8489\\nAPO AA 42991-3352  \n",
      "4863  4215 Tracy Garden Suite 076\\nJoshualand, VA 01...  \n",
      "4864                          USS Wallace\\nFPO AE 73316  \n",
      "4865  37778 George Ridges Apt. 509\\nEast Holly, NV 2...  \n",
      "\n",
      "[4865 rows x 7 columns]\n"
     ]
    }
   ],
   "source": [
    "data_preprocessing(df)"
   ]
  },
  {
   "cell_type": "code",
   "execution_count": 7,
   "id": "7eec54d8",
   "metadata": {},
   "outputs": [
    {
     "data": {
      "text/plain": [
       "<function matplotlib.pyplot.show(close=None, block=None)>"
      ]
     },
     "execution_count": 7,
     "metadata": {},
     "output_type": "execute_result"
    },
    {
     "data": {
      "image/png": "[encoded data removed]",
      "text/plain": [
       "<Figure size 1440x1080 with 6 Axes>"
      ]
     },
     "metadata": {
      "needs_background": "light"
     },
     "output_type": "display_data"
    }
   ],
   "source": [
    "# Histogram\n",
    "graph  = df.select_dtypes(include = ['int32','int64','float'])\n",
    "graph.hist(figsize = (20,15))\n",
    "plt.show\n",
    "# # Scatter Plot:\n",
    "# plt.scatter(df['Independent variable'],df['Dependent variabel'])\n"
   ]
  },
  {
   "cell_type": "code",
   "execution_count": 81,
   "id": "70875a20",
   "metadata": {},
   "outputs": [],
   "source": [
    "\n",
    "\n",
    "\n",
    "# Here we are trying to predict the housing prices which is the dependent variable based on Area Income, \n",
    "# Area House Age, Number of rooms, Population\n",
    "\n",
    "\n",
    "\n"
   ]
  },
  {
   "cell_type": "code",
   "execution_count": 8,
   "id": "2339cd16",
   "metadata": {},
   "outputs": [
    {
     "data": {
      "text/plain": [
       "<AxesSubplot:>"
      ]
     },
     "execution_count": 8,
     "metadata": {},
     "output_type": "execute_result"
    },
    {
     "data": {
      "image/png": "[encoded data removed]",
      "text/plain": [
       "<Figure size 720x288 with 2 Axes>"
      ]
     },
     "metadata": {
      "needs_background": "light"
     },
     "output_type": "display_data"
    }
   ],
   "source": [
    "# Correlation\n",
    "corr_matrix = df.corr()\n",
    "plt.subplots(figsize = (10,4))\n",
    "sns.heatmap(corr_matrix,vmin = -.7, vmax = .7, annot = True, linewidth = 0.3,cmap = 'YlGnBu' )\n"
   ]
  },
  {
   "cell_type": "markdown",
   "id": "619134e0",
   "metadata": {},
   "source": [
    "Here the is no high correlation amoung the variables "
   ]
  },
  {
   "cell_type": "code",
   "execution_count": 9,
   "id": "b334461d",
   "metadata": {},
   "outputs": [],
   "source": [
    "# Add dependent feature to y and independent features to x\n",
    "y = df['Price']\n",
    "x = df.drop(['Price','Address'], axis = 1)"
   ]
  },
  {
   "cell_type": "code",
   "execution_count": 10,
   "id": "9a6d49fe",
   "metadata": {},
   "outputs": [],
   "source": [
    "# Splitting into training and testing\n",
    "\n",
    "from sklearn.model_selection import train_test_split\n",
    "\n",
    "x_train,x_test,y_train,y_test = train_test_split(x,y,random_state = 42,test_size = .25)\n",
    "# Scaling using standard scaling\n",
    "from sklearn import preprocessing\n",
    "standardisation  = preprocessing.StandardScaler()\n",
    "x_test = standardisation.fit_transform(x_test)\n",
    "x_train = standardisation.fit_transform(x_train)\n",
    "\n"
   ]
  },
  {
   "cell_type": "code",
   "execution_count": 11,
   "id": "c1ccd935",
   "metadata": {},
   "outputs": [],
   "source": [
    "# Regression Modelling\n",
    "from sklearn import linear_model\n",
    "lr = linear_model.LinearRegression()\n",
    "model = lr.fit(x_train,y_train)\n",
    "predictions = model.predict(x_test)"
   ]
  },
  {
   "cell_type": "code",
   "execution_count": 12,
   "id": "e5f25ff2",
   "metadata": {},
   "outputs": [
    {
     "name": "stdout",
     "output_type": "stream",
     "text": [
      "Intercept for the model is 1231937.1642710178\n"
     ]
    }
   ],
   "source": [
    "print(f'Intercept for the model is {model.intercept_}')"
   ]
  },
  {
   "cell_type": "code",
   "execution_count": 34,
   "id": "d1f6d504",
   "metadata": {},
   "outputs": [
    {
     "data": {
      "text/plain": [
       "array([221992.92389313, 161247.52780979, 118422.72716152,    511.22703061,\n",
       "       144046.04062495])"
      ]
     },
     "execution_count": 34,
     "metadata": {},
     "output_type": "execute_result"
    }
   ],
   "source": [
    "#The  coefficients for each independent or predictor variable\n",
    "model.coef_"
   ]
  },
  {
   "cell_type": "code",
   "execution_count": 26,
   "id": "36e2b3db",
   "metadata": {},
   "outputs": [
    {
     "name": "stdout",
     "output_type": "stream",
     "text": [
      "0.9106926821266688\n"
     ]
    }
   ],
   "source": [
    "# Regression Score\n",
    "print(model.score(x_test, y_test))\n"
   ]
  },
  {
   "cell_type": "markdown",
   "id": "1fe2ea54",
   "metadata": {},
   "source": [
    "Regression score is 0.910 which shows our model has high predictive power"
   ]
  },
  {
   "cell_type": "code",
   "execution_count": 17,
   "id": "3c80cbac",
   "metadata": {},
   "outputs": [
    {
     "name": "stdout",
     "output_type": "stream",
     "text": [
      "Mean Absolute Error is 81495.38677952909.\n",
      "Mean Squared Error is 10405206651.39478.\n",
      "Root Mean Squared Error is 102005.91478632393.\n"
     ]
    }
   ],
   "source": [
    "from sklearn.metrics import mean_squared_error,mean_absolute_error\n",
    "print(f'Mean Absolute Error is {mean_absolute_error(y_test,predictions)}.')\n",
    "print(f'Mean Squared Error is {mean_squared_error(y_test,predictions)}.')\n",
    "print(f'Root Mean Squared Error is {mean_squared_error(y_test,predictions,squared = False)}.')"
   ]
  },
  {
   "cell_type": "code",
   "execution_count": 33,
   "id": "9a661727",
   "metadata": {},
   "outputs": [
    {
     "data": {
      "text/plain": [
       "array([1299844.5291252 , 1047539.36085957,  973400.43760906, ...,\n",
       "       1429341.28993606, 1084084.38553197, 1442249.60615983])"
      ]
     },
     "execution_count": 33,
     "metadata": {},
     "output_type": "execute_result"
    }
   ],
   "source": [
    "predictions"
   ]
  },
  {
   "cell_type": "code",
   "execution_count": 49,
   "id": "c7dc8230",
   "metadata": {},
   "outputs": [
    {
     "data": {
      "text/plain": [
       "Text(0.5, 1.0, 'Regression Model')"
      ]
     },
     "execution_count": 49,
     "metadata": {},
     "output_type": "execute_result"
    },
    {
     "data": {
      "image/png": "[encoded data removed]",
      "text/plain": [
       "<Figure size 432x288 with 1 Axes>"
      ]
     },
     "metadata": {
      "needs_background": "light"
     },
     "output_type": "display_data"
    }
   ],
   "source": [
    "plt.scatter(x_test[:,0], y_test, color ='b')\n",
    "plt.plot(x_test[:,0], predictions, color ='r')\n",
    "plt.ylabel('Price (In Millions)')\n",
    "plt.xlabel('Factors affecting price')\n",
    "plt.title('Regression Model')\n"
   ]
  },
  {
   "cell_type": "code",
   "execution_count": 44,
   "id": "3811aaa7",
   "metadata": {},
   "outputs": [
    {
     "data": {
      "text/plain": [
       "array([1299844.5291252 , 1047539.36085957,  973400.43760906, ...,\n",
       "       1429341.28993606, 1084084.38553197, 1442249.60615983])"
      ]
     },
     "execution_count": 44,
     "metadata": {},
     "output_type": "execute_result"
    }
   ],
   "source": [
    "predictions"
   ]
  },
  {
   "cell_type": "markdown",
   "id": "b3919b44",
   "metadata": {},
   "source": [
    "predictions = model.intercept_ + np.sum(model.coef_ * x_test, axis=1)\n"
   ]
  },
  {
   "cell_type": "markdown",
   "id": "a3c1d319",
   "metadata": {},
   "source": [
    "The above mentioned is the regression equation"
   ]
  },
  {
   "cell_type": "code",
   "execution_count": null,
   "id": "bd813684",
   "metadata": {},
   "outputs": [],
   "source": []
  },
  {
   "cell_type": "code",
   "execution_count": null,
   "id": "27ab45eb",
   "metadata": {},
   "outputs": [],
   "source": []
  }
 ],
 "metadata": {
  "kernelspec": {
   "display_name": "Python 3 (ipykernel)",
   "language": "python",
   "name": "python3"
  },
  "language_info": {
   "codemirror_mode": {
    "name": "ipython",
    "version": 3
   },
   "file_extension": ".py",
   "mimetype": "text/x-python",
   "name": "python",
   "nbconvert_exporter": "python",
   "pygments_lexer": "ipython3",
   "version": "3.9.7"
  }
 },
 "nbformat": 4,
 "nbformat_minor": 5
}
